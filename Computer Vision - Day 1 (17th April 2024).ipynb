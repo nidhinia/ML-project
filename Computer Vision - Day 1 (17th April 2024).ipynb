{
 "cells": [
  {
   "cell_type": "code",
   "execution_count": 1,
   "id": "8aa75320",
   "metadata": {},
   "outputs": [],
   "source": [
    "#!pip install opencv-python\n",
    "import cv2\n",
    "import numpy as np"
   ]
  },
  {
   "cell_type": "markdown",
   "id": "18119208",
   "metadata": {},
   "source": [
    "# Hi and Welcome to our first code in Computer Vision\n",
    "# Reading, writing, displaying and saving images with OpenCV(CV2)"
   ]
  },
  {
   "cell_type": "code",
   "execution_count": 7,
   "id": "1c73d157",
   "metadata": {},
   "outputs": [],
   "source": [
    "input_modiji = cv2.imread('modiji.jpeg') # imread -  reading\n",
    "cv2.imshow(\"ModiJi\", input_modiji) # \"Modiji\" - writing imshow - displaying\n",
    "cv2.waitKey()\n",
    "cv2.destroyAllWindows()"
   ]
  },
  {
   "cell_type": "code",
   "execution_count": 8,
   "id": "2861752b",
   "metadata": {},
   "outputs": [
    {
     "data": {
      "text/plain": [
       "(225, 225, 3)"
      ]
     },
     "execution_count": 8,
     "metadata": {},
     "output_type": "execute_result"
    }
   ],
   "source": [
    "input_modiji.shape"
   ]
  },
  {
   "cell_type": "code",
   "execution_count": 9,
   "id": "0738eede",
   "metadata": {},
   "outputs": [
    {
     "data": {
      "text/plain": [
       "True"
      ]
     },
     "execution_count": 9,
     "metadata": {},
     "output_type": "execute_result"
    }
   ],
   "source": [
    "cv2.imwrite(\"my_own_modiji.jpeg\", input_modiji) # Saving image in our directory"
   ]
  },
  {
   "cell_type": "markdown",
   "id": "ab484672",
   "metadata": {},
   "source": [
    "# Let convert our color image to greyscale image"
   ]
  },
  {
   "cell_type": "code",
   "execution_count": 4,
   "id": "f44ce13d",
   "metadata": {},
   "outputs": [],
   "source": [
    "image = cv2.imread('opencv.jpg') \n",
    "cv2.imshow(\"Image\", image) \n",
    "cv2.waitKey()\n",
    "\n",
    "# we use cvtColor, to convert to greyscale\n",
    "gray_image = cv2.cvtColor(image, cv2.COLOR_BGR2GRAY)\n",
    "cv2.imshow(\"GrayImage\", gray_image)\n",
    "cv2.waitKey()\n",
    "cv2.destroyAllWindows()"
   ]
  },
  {
   "cell_type": "code",
   "execution_count": 5,
   "id": "cd35b9ec",
   "metadata": {},
   "outputs": [
    {
     "data": {
      "text/plain": [
       "(1600, 1074, 3)"
      ]
     },
     "execution_count": 5,
     "metadata": {},
     "output_type": "execute_result"
    }
   ],
   "source": [
    "image.shape"
   ]
  },
  {
   "cell_type": "code",
   "execution_count": 6,
   "id": "2d300154",
   "metadata": {},
   "outputs": [
    {
     "name": "stdout",
     "output_type": "stream",
     "text": [
      "55 53 52\n",
      "(1600, 1074, 3)\n"
     ]
    }
   ],
   "source": [
    "B, G, R = image[10, 50]\n",
    "print(B, G, R)\n",
    "print(image.shape)"
   ]
  },
  {
   "cell_type": "code",
   "execution_count": 8,
   "id": "31a3072f",
   "metadata": {},
   "outputs": [],
   "source": [
    "# https://docs.opencv.org/4.x/d8/d01/group__imgproc__color__conversions.html\n",
    "image = cv2.imread('opencv.jpg') \n",
    "cv2.imshow(\"Image\", image) \n",
    "cv2.waitKey()\n",
    "\n",
    "# we use cvtColor, to convert to greyscale\n",
    "gray_image = cv2.cvtColor(image, cv2.COLOR_BGR2GRAY)\n",
    "cv2.imshow(\"GrayImage\", gray_image)\n",
    "cv2.waitKey()\n",
    "\n",
    "color_img = cv2.cvtColor(image, cv2.COLOR_BGR2RGB)\n",
    "cv2.imshow(\"Color Image\", color_img)\n",
    "cv2.waitKey()\n",
    "\n",
    "color_img1 = cv2.cvtColor(image, cv2.COLOR_BGR2Luv)\n",
    "cv2.imshow(\"Color Image\", color_img1)\n",
    "cv2.waitKey()\n",
    "\n",
    "color_img2 = cv2.cvtColor(image, cv2.COLOR_BGR2HSV)\n",
    "cv2.imshow(\"Color Image\", color_img2)\n",
    "cv2.waitKey()\n",
    "\n",
    "cv2.destroyAllWindows()\n"
   ]
  },
  {
   "cell_type": "markdown",
   "id": "7540080a",
   "metadata": {},
   "source": [
    "# Drawing image and shapes using OpenCV(CV2)"
   ]
  },
  {
   "cell_type": "code",
   "execution_count": 9,
   "id": "77a74005",
   "metadata": {},
   "outputs": [],
   "source": [
    "import numpy as np\n",
    "import cv2\n",
    "\n",
    "image = np.zeros((512,512,3))\n",
    "image_bw = np.zeros((512,512,1))\n",
    "\n",
    "cv2.imshow(\"Black Rectangle (Color)\", image)\n",
    "cv2.imshow(\"Black Rectangle (B&W)\", image_bw)\n",
    "\n",
    "cv2.waitKey()\n",
    "\n",
    "cv2.destroyAllWindows()"
   ]
  },
  {
   "cell_type": "markdown",
   "id": "04aba132",
   "metadata": {},
   "source": [
    "# Let's draw a line over our black square"
   ]
  },
  {
   "cell_type": "code",
   "execution_count": 11,
   "id": "c53ec480",
   "metadata": {},
   "outputs": [],
   "source": [
    "image = np.zeros((512,512,3))\n",
    "cv2.line(image, (0,0),(400,400), (255,127,0), 5)\n",
    "cv2.imshow(\"Line\", image)\n",
    "cv2.waitKey()\n",
    "\n",
    "cv2.destroyAllWindows()"
   ]
  },
  {
   "cell_type": "code",
   "execution_count": null,
   "id": "7fbb298a",
   "metadata": {},
   "outputs": [],
   "source": [
    "# Let's draw a rectangle over our black square"
   ]
  },
  {
   "cell_type": "code",
   "execution_count": 14,
   "id": "dd4ebcf9",
   "metadata": {},
   "outputs": [],
   "source": [
    "image = np.zeros((512,512,3))\n",
    "cv2.rectangle(image, (100,100),(300,400), (255,127,0), 5)\n",
    "cv2.imshow(\"Rectangle\", image)\n",
    "cv2.waitKey()\n",
    "\n",
    "cv2.destroyAllWindows()"
   ]
  },
  {
   "cell_type": "code",
   "execution_count": 24,
   "id": "2146acf2",
   "metadata": {},
   "outputs": [],
   "source": [
    "image = np.zeros((512,512,3))\n",
    "cv2.rectangle(image, (100,100),(300,400), (255,127,0), -1)\n",
    "cv2.imshow(\"Rectangle\", image)\n",
    "cv2.waitKey()\n",
    "\n",
    "cv2.destroyAllWindows()"
   ]
  },
  {
   "cell_type": "code",
   "execution_count": 20,
   "id": "eedcd396",
   "metadata": {},
   "outputs": [],
   "source": [
    "image = np.zeros((512,512,3))\n",
    "cv2.circle(image, (300,300),100, (50,255,10), -1)\n",
    "cv2.imshow(\"circle\", image)\n",
    "cv2.waitKey()\n",
    "\n",
    "cv2.destroyAllWindows()"
   ]
  },
  {
   "cell_type": "code",
   "execution_count": 23,
   "id": "469e8822",
   "metadata": {},
   "outputs": [],
   "source": [
    "image = np.zeros((512,512,3))\n",
    "cv2.rectangle(image, (100,100),(400,400), (255,127,0), -1)\n",
    "cv2.imshow(\"Rectangle\", image)\n",
    "cv2.waitKey()\n",
    "\n",
    "cv2.destroyAllWindows()"
   ]
  }
 ],
 "metadata": {
  "kernelspec": {
   "display_name": "Python 3 (ipykernel)",
   "language": "python",
   "name": "python3"
  },
  "language_info": {
   "codemirror_mode": {
    "name": "ipython",
    "version": 3
   },
   "file_extension": ".py",
   "mimetype": "text/x-python",
   "name": "python",
   "nbconvert_exporter": "python",
   "pygments_lexer": "ipython3",
   "version": "3.9.13"
  }
 },
 "nbformat": 4,
 "nbformat_minor": 5
}
